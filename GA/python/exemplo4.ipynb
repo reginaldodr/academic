{
 "cells": [
  {
   "cell_type": "markdown",
   "id": "9bee46ad-5e04-40b4-8278-eec6304138da",
   "metadata": {
    "id": "9bee46ad-5e04-40b4-8278-eec6304138da"
   },
   "source": [
    "Exemplo 4.1: exemplo do Stewart Vol. 2 6ª ed. seção 12.2"
   ]
  },
  {
   "cell_type": "code",
   "execution_count": 1,
   "id": "45df4434-26d0-44a9-b71d-0e81b8dd9ab2",
   "metadata": {
    "colab": {
     "base_uri": "https://localhost:8080/",
     "height": 124
    },
    "executionInfo": {
     "elapsed": 1518,
     "status": "ok",
     "timestamp": 1650631717965,
     "user": {
      "displayName": "Reginaldo Demarque da Rocha",
      "userId": "09110436713033564269"
     },
     "user_tz": 180
    },
    "id": "45df4434-26d0-44a9-b71d-0e81b8dd9ab2",
    "outputId": "48c833d1-8b21-45ca-9f57-91234111cb55"
   },
   "outputs": [
    {
     "name": "stdout",
     "output_type": "stream",
     "text": [
      "2ª lei de Newton\n"
     ]
    },
    {
     "data": {
      "text/latex": [
       "$\\displaystyle \\left[\\begin{matrix}- \\frac{\\sqrt{3} T_{1}}{2} + \\frac{T_{2}}{2}\\\\\\frac{T_{1}}{2} + \\frac{\\sqrt{3} T_{2}}{2} - 980.0\\end{matrix}\\right] = \\left[\\begin{matrix}0\\\\0\\end{matrix}\\right]$"
      ],
      "text/plain": [
       "⎡     √3⋅T₁   T₂   ⎤      \n",
       "⎢   - ───── + ──   ⎥      \n",
       "⎢       2     2    ⎥   ⎡0⎤\n",
       "⎢                  ⎥ = ⎢ ⎥\n",
       "⎢T₁   √3⋅T₂        ⎥   ⎣0⎦\n",
       "⎢── + ───── - 980.0⎥      \n",
       "⎣2      2          ⎦      "
      ]
     },
     "metadata": {},
     "output_type": "display_data"
    },
    {
     "name": "stdout",
     "output_type": "stream",
     "text": [
      "Solução da equação\n"
     ]
    },
    {
     "data": {
      "text/latex": [
       "$\\displaystyle \\left\\{ T_{1} : 490.0, \\  T_{2} : 848.70489570875\\right\\}$"
      ],
      "text/plain": [
       "{T₁: 490.0, T₂: 848.70489570875}"
      ]
     },
     "metadata": {},
     "output_type": "display_data"
    }
   ],
   "source": [
    "import sympy as sp\n",
    "sp.init_printing(use_latex='mathjax')\n",
    "\n",
    "T1,T2=sp.symbols('T1 T2',real=True)\n",
    "\n",
    "g=9.8\n",
    "m=100\n",
    "\n",
    "#vetores unitarios\n",
    "i=sp.Matrix([1,0])\n",
    "j=sp.Matrix([0,1])\n",
    "O=sp.Matrix([0,0])\n",
    "\n",
    "#vetores tensão\n",
    "VT1=-T1*sp.cos(30*sp.pi/180)*i+T1*sp.cos(60*sp.pi/180)*j\n",
    "VT2=T2*sp.cos(60*sp.pi/180)*i+T2*sp.cos(30*sp.pi/180)*j\n",
    "\n",
    "#força peso\n",
    "P=-m*g*j\n",
    "\n",
    "#2ª lei de Newton\n",
    "print('2ª lei de Newton')\n",
    "eq=sp.Eq(VT1+VT2+P,O)\n",
    "display(eq)\n",
    "\n",
    "#resolvendo a equação\n",
    "sol=sp.solve(eq,(T1,T2))\n",
    "print('Solução da equação')\n",
    "display(sol)\n",
    "\n",
    "\n"
   ]
  },
  {
   "cell_type": "markdown",
   "id": "x5F3KotmfcAl",
   "metadata": {
    "id": "x5F3KotmfcAl"
   },
   "source": [
    "# Nova seção"
   ]
  },
  {
   "cell_type": "markdown",
   "id": "bdd18d7e-20b0-4841-af93-a983d479d5ac",
   "metadata": {
    "id": "bdd18d7e-20b0-4841-af93-a983d479d5ac"
   },
   "source": [
    "***\n",
    "\n",
    "Exemplo 4.2: Exercício 1 do Slide, determinar a massa m dados T2 e os ângulos."
   ]
  },
  {
   "cell_type": "code",
   "execution_count": 7,
   "id": "b1b20f2c-b11f-418b-a52f-f8ff48b3ef06",
   "metadata": {
    "colab": {
     "base_uri": "https://localhost:8080/",
     "height": 124
    },
    "executionInfo": {
     "elapsed": 717,
     "status": "ok",
     "timestamp": 1650632004509,
     "user": {
      "displayName": "Reginaldo Demarque da Rocha",
      "userId": "09110436713033564269"
     },
     "user_tz": 180
    },
    "id": "b1b20f2c-b11f-418b-a52f-f8ff48b3ef06",
    "outputId": "058fd7b7-2514-412c-d3c6-fae3b062cea8"
   },
   "outputs": [
    {
     "name": "stdout",
     "output_type": "stream",
     "text": [
      "2ª lei de Newton\n"
     ]
    },
    {
     "data": {
      "text/latex": [
       "$\\displaystyle \\left[\\begin{matrix}- \\frac{\\sqrt{3} T_{1}}{2} + 50 \\sqrt{2}\\\\\\frac{T_{1}}{2} - 9.8 m + 50 \\sqrt{2}\\end{matrix}\\right] = \\left[\\begin{matrix}0\\\\0\\end{matrix}\\right]$"
      ],
      "text/plain": [
       "⎡   √3⋅T₁          ⎤      \n",
       "⎢ - ───── + 50⋅√2  ⎥      \n",
       "⎢     2            ⎥   ⎡0⎤\n",
       "⎢                  ⎥ = ⎢ ⎥\n",
       "⎢T₁                ⎥   ⎣0⎦\n",
       "⎢── - 9.8⋅m + 50⋅√2⎥      \n",
       "⎣2                 ⎦      "
      ]
     },
     "metadata": {},
     "output_type": "display_data"
    },
    {
     "name": "stdout",
     "output_type": "stream",
     "text": [
      "Solução da equação\n"
     ]
    },
    {
     "data": {
      "text/latex": [
       "$\\displaystyle \\left\\{ T_{1} : 81.6496580927726, \\  m : 11.3811742005144\\right\\}$"
      ],
      "text/plain": [
       "{T₁: 81.6496580927726, m: 11.3811742005144}"
      ]
     },
     "metadata": {},
     "output_type": "display_data"
    }
   ],
   "source": [
    "import sympy as sp\n",
    "sp.init_printing(use_latex='mathjax')\n",
    "\n",
    "T1,m=sp.symbols('T1 m',real=True)\n",
    "\n",
    "g=9.8\n",
    "T2=100\n",
    "\n",
    "\n",
    "#vetores unitarios\n",
    "i=sp.Matrix([1,0])\n",
    "j=sp.Matrix([0,1])\n",
    "O=sp.Matrix([0,0])\n",
    "\n",
    "\n",
    "#vetores tensão\n",
    "VT1=-T1*sp.cos(30*sp.pi/180)*i+T1*sp.cos(60*sp.pi/180)*j\n",
    "VT2=T2*sp.cos(45*sp.pi/180)*i+T2*sp.cos(45*sp.pi/180)*j\n",
    "\n",
    "#força peso\n",
    "P=-m*g*j\n",
    "\n",
    "#2ª lei de Newton\n",
    "print('2ª lei de Newton')\n",
    "eq=sp.Eq(VT1+VT2+P,O)\n",
    "display(eq)\n",
    "\n",
    "#resolvendo a equação\n",
    "sol=sp.solve(eq,(T1,m))\n",
    "print('Solução da equação')\n",
    "display(sol)"
   ]
  },
  {
   "cell_type": "code",
   "execution_count": null,
   "id": "TIdhtDi0U5eH",
   "metadata": {
    "id": "TIdhtDi0U5eH"
   },
   "outputs": [],
   "source": []
  }
 ],
 "metadata": {
  "colab": {
   "collapsed_sections": [],
   "name": "exemplo4.ipynb",
   "provenance": []
  },
  "kernelspec": {
   "display_name": "Python 3 (ipykernel)",
   "language": "python",
   "name": "python3"
  },
  "language_info": {
   "codemirror_mode": {
    "name": "ipython",
    "version": 3
   },
   "file_extension": ".py",
   "mimetype": "text/x-python",
   "name": "python",
   "nbconvert_exporter": "python",
   "pygments_lexer": "ipython3",
   "version": "3.9.7"
  }
 },
 "nbformat": 4,
 "nbformat_minor": 5
}
